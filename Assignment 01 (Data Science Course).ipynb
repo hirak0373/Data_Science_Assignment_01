{
 "cells": [
  {
   "cell_type": "code",
   "execution_count": 8,
   "metadata": {},
   "outputs": [
    {
     "name": "stdout",
     "output_type": "stream",
     "text": [
      "Twinkle, twinkle, little star,\n",
      "\t How I wonder what you are!\n",
      "\t\t Up above the world so high,\n",
      "\t\t Like a diamond in the sky.\n",
      " Twinkle, twinkle, little star,\n",
      "\t How I wonder what you are!\n"
     ]
    }
   ],
   "source": [
    "# Question 01\n",
    "print(\"Twinkle, twinkle, little star,\"+\"\\n\\t\"+\" How I wonder what you are!\"+\"\\n\\t\\t\"+\" Up above the world so high,\"+\"\\n\\t\\t\"+\" Like a diamond in the sky.\"+\"\\n\"+\" Twinkle, twinkle, little star,\"+\"\\n\\t\"+\" How I wonder what you are!\")"
   ]
  },
  {
   "cell_type": "code",
   "execution_count": 13,
   "metadata": {},
   "outputs": [
    {
     "name": "stdout",
     "output_type": "stream",
     "text": [
      "3.7.4\n"
     ]
    }
   ],
   "source": [
    "# Question 2\n",
    "from platform import python_version\n",
    "print(python_version());"
   ]
  },
  {
   "cell_type": "code",
   "execution_count": 15,
   "metadata": {},
   "outputs": [
    {
     "name": "stdout",
     "output_type": "stream",
     "text": [
      "2022-01-08 16:18:10.165592\n"
     ]
    }
   ],
   "source": [
    "# Question 03\n",
    "import datetime \n",
    "current_time = datetime.datetime.now() \n",
    "print (current_time) "
   ]
  },
  {
   "cell_type": "code",
   "execution_count": 19,
   "metadata": {},
   "outputs": [
    {
     "name": "stdout",
     "output_type": "stream",
     "text": [
      "Enter radius of a circle: 3\n",
      "28.259999999999998\n"
     ]
    }
   ],
   "source": [
    "# Question 04\n",
    "r=int(input(\"Enter radius of a circle: \"));\n",
    "area=3.14*r*r;\n",
    "print(area);"
   ]
  },
  {
   "cell_type": "code",
   "execution_count": 20,
   "metadata": {},
   "outputs": [
    {
     "name": "stdout",
     "output_type": "stream",
     "text": [
      "Enter your first name: hira\n",
      "Enter your last name: khan\n",
      "khan hira\n"
     ]
    }
   ],
   "source": [
    "# Question 05\n",
    "f=input(\"Enter your first name: \");\n",
    "l=input(\"Enter your last name: \");\n",
    "print(l+\" \"+f);"
   ]
  },
  {
   "cell_type": "code",
   "execution_count": 22,
   "metadata": {},
   "outputs": [
    {
     "name": "stdout",
     "output_type": "stream",
     "text": [
      "Enter first number: 3\n",
      "Enter second number: 4\n",
      "7\n"
     ]
    }
   ],
   "source": [
    "# Question 06\n",
    "f=int(input(\"Enter first number: \"));\n",
    "s=int(input(\"Enter second number: \"));\n",
    "add = f+s;\n",
    "print(add);"
   ]
  },
  {
   "cell_type": "code",
   "execution_count": null,
   "metadata": {},
   "outputs": [],
   "source": []
  }
 ],
 "metadata": {
  "kernelspec": {
   "display_name": "Python 3",
   "language": "python",
   "name": "python3"
  },
  "language_info": {
   "codemirror_mode": {
    "name": "ipython",
    "version": 3
   },
   "file_extension": ".py",
   "mimetype": "text/x-python",
   "name": "python",
   "nbconvert_exporter": "python",
   "pygments_lexer": "ipython3",
   "version": "3.7.4"
  }
 },
 "nbformat": 4,
 "nbformat_minor": 2
}
